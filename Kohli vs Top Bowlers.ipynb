{
 "cells": [
  {
   "cell_type": "markdown",
   "id": "536c30a8",
   "metadata": {},
   "source": [
    "VIRAT vs BUMRAH IN IPL"
   ]
  },
  {
   "cell_type": "code",
   "execution_count": 1,
   "id": "83927056",
   "metadata": {},
   "outputs": [],
   "source": [
    "import pandas as pd\n",
    "import matplotlib.pyplot as plt\n",
    "import numpy as np"
   ]
  },
  {
   "cell_type": "code",
   "execution_count": 2,
   "id": "0a3dfecd",
   "metadata": {},
   "outputs": [],
   "source": [
    "df = pd.read_csv(\"C:\\\\Users\\\\hp\\\\Downloads\\\\archive (2)\\\\deliveries.csv\")\n",
    "df1 = df[df['batsman'] == 'V Kohli'] \n",
    "df2 = df1[df1['bowler'] == 'JJ Bumrah']\n",
    "cols = [0, 1, 2, 3, 4, 5, 7, 9, 10, 11, 12, 13, 14, 16, 18, 17, 19, 20]\n",
    "df3 = df2.drop(df2.columns[cols], axis = 1)"
   ]
  },
  {
   "cell_type": "code",
   "execution_count": 3,
   "id": "91247f7a",
   "metadata": {},
   "outputs": [],
   "source": [
    "g = df3.groupby(['batsman', 'bowler']).sum()\n",
    "h = df3[df3['batsman_runs'] == 4]\n",
    "i = df3[df3['batsman_runs'] == 6]\n",
    "j = df3[df3['batsman_runs'] == 0]\n",
    "k = df2[df2['player_dismissed'] == 'V Kohli']\n",
    "l = g['batsman_runs'].tolist()\n",
    "r1 = len(h.axes[0])\n",
    "r2 = len(i.axes[0])\n",
    "r3 = len(j.axes[0])\n",
    "r4 = len(k.axes[0])\n",
    "r5 = len(df3.axes[0])"
   ]
  },
  {
   "cell_type": "code",
   "execution_count": 4,
   "id": "08f5e673",
   "metadata": {},
   "outputs": [
    {
     "name": "stdout",
     "output_type": "stream",
     "text": [
      "Kohli vs Bumrah:\n",
      "Balls faced:  46\n",
      "Runs scored:  71\n",
      "Boundaries:  8\n",
      "Sixes:  3\n",
      "Dot Balls:  16\n",
      "Dismissals:  1\n",
      "Against Kohli, Bumrah has a control measure of:  34.78 %\n"
     ]
    }
   ],
   "source": [
    "print(\"Kohli vs Bumrah:\")\n",
    "print(\"Balls faced: \", r5)\n",
    "print(\"Runs scored: \", l[0])\n",
    "print(\"Boundaries: \", r1)\n",
    "print(\"Sixes: \", r2)\n",
    "print(\"Dot Balls: \", r3)\n",
    "print(\"Dismissals: \", r4)\n",
    "print(\"Against Kohli, Bumrah has a control measure of: \", round(r3/r5*100, 2), \"%\")"
   ]
  },
  {
   "cell_type": "markdown",
   "id": "46127a1a",
   "metadata": {},
   "source": [
    "KOHLI vs ASHWIN IN IPL"
   ]
  },
  {
   "cell_type": "code",
   "execution_count": 5,
   "id": "1344ba6b",
   "metadata": {},
   "outputs": [],
   "source": [
    "import pandas as pd\n",
    "import matplotlib.pyplot as plt\n",
    "import numpy as np"
   ]
  },
  {
   "cell_type": "code",
   "execution_count": 6,
   "id": "92dc97e8",
   "metadata": {},
   "outputs": [],
   "source": [
    "df = pd.read_csv(\"C:\\\\Users\\\\hp\\\\Downloads\\\\archive (2)\\\\deliveries.csv\")\n",
    "df1 = df[df['batsman'] == 'V Kohli'] \n",
    "df2 = df1[df1['bowler'] == 'R Ashwin']\n",
    "cols = [0, 1, 2, 3, 4, 5, 7, 9, 10, 11, 12, 13, 14, 16, 18, 17, 19, 20]\n",
    "df3 = df2.drop(df2.columns[cols], axis = 1)"
   ]
  },
  {
   "cell_type": "code",
   "execution_count": 7,
   "id": "a8ab077d",
   "metadata": {},
   "outputs": [],
   "source": [
    "g = df3.groupby(['batsman', 'bowler']).sum()\n",
    "h = df3[df3['batsman_runs'] == 4]\n",
    "i = df3[df3['batsman_runs'] == 6]\n",
    "j = df3[df3['batsman_runs'] == 0]\n",
    "k = df2[df2['player_dismissed'] == 'V Kohli']\n",
    "l = g['batsman_runs'].tolist()\n",
    "r1 = len(h.axes[0])\n",
    "r2 = len(i.axes[0])\n",
    "r3 = len(j.axes[0])\n",
    "r4 = len(k.axes[0])\n",
    "r5 = len(df3.axes[0])"
   ]
  },
  {
   "cell_type": "code",
   "execution_count": 8,
   "id": "71fd7d38",
   "metadata": {},
   "outputs": [
    {
     "name": "stdout",
     "output_type": "stream",
     "text": [
      "Kohli vs Ashwin:\n",
      "Balls faced:  101\n",
      "Runs scored:  127\n",
      "Boundaries:  10\n",
      "Sixes:  6\n",
      "Dot Balls:  37\n",
      "Dismissals:  0\n",
      "Against Kohli, Ashwin has a control measure of:  36.63 %\n"
     ]
    }
   ],
   "source": [
    "print(\"Kohli vs Ashwin:\")\n",
    "print(\"Balls faced: \", r5)\n",
    "print(\"Runs scored: \", l[0])\n",
    "print(\"Boundaries: \", r1)\n",
    "\n",
    "print(\"Sixes: \", r2)\n",
    "print(\"Dot Balls: \", r3)\n",
    "print(\"Dismissals: \", r4)\n",
    "print(\"Against Kohli, Ashwin has a control measure of: \", round(r3/r5*100, 2), \"%\")"
   ]
  },
  {
   "cell_type": "markdown",
   "id": "1c0063a2",
   "metadata": {},
   "source": [
    "KOHLI vs MALINGA IN IPL"
   ]
  },
  {
   "cell_type": "code",
   "execution_count": 9,
   "id": "8c97d17a",
   "metadata": {},
   "outputs": [],
   "source": [
    "import pandas as pd\n",
    "import matplotlib.pyplot as plt\n",
    "import numpy as np"
   ]
  },
  {
   "cell_type": "code",
   "execution_count": 10,
   "id": "98739d29",
   "metadata": {},
   "outputs": [],
   "source": [
    "df = pd.read_csv(\"C:\\\\Users\\\\hp\\\\Downloads\\\\archive (2)\\\\deliveries.csv\")\n",
    "df1 = df[df['batsman'] == 'V Kohli'] \n",
    "df2 = df1[df1['bowler'] == 'SL Malinga']\n",
    "cols = [0, 1, 2, 3, 4, 5, 7, 9, 10, 11, 12, 13, 14, 16, 18, 17, 19, 20]\n",
    "df3 = df2.drop(df2.columns[cols], axis = 1)"
   ]
  },
  {
   "cell_type": "code",
   "execution_count": 11,
   "id": "f305a41c",
   "metadata": {},
   "outputs": [],
   "source": [
    "g = df3.groupby(['batsman', 'bowler']).sum()\n",
    "h = df3[df3['batsman_runs'] == 4]\n",
    "i = df3[df3['batsman_runs'] == 6]\n",
    "j = df3[df3['batsman_runs'] == 0]\n",
    "k = df2[df2['player_dismissed'] == 'SR Watson']\n",
    "l = g['batsman_runs'].tolist()\n",
    "r1 = len(h.axes[0])\n",
    "r2 = len(i.axes[0])\n",
    "r3 = len(j.axes[0])\n",
    "r4 = len(k.axes[0])\n",
    "r5 = len(df3.axes[0])"
   ]
  },
  {
   "cell_type": "code",
   "execution_count": 12,
   "id": "d567dea5",
   "metadata": {},
   "outputs": [
    {
     "name": "stdout",
     "output_type": "stream",
     "text": [
      "Kohli vs Malinga:\n",
      "Balls faced:  29\n",
      "Runs scored:  25\n",
      "Boundaries:  3\n",
      "Sixes:  0\n",
      "Dot Balls:  13\n",
      "Dismissals:  0\n",
      "Against Kohli, Malinga has a control measure of:  44.83 %\n"
     ]
    }
   ],
   "source": [
    "print(\"Kohli vs Malinga:\")\n",
    "print(\"Balls faced: \", r5)\n",
    "print(\"Runs scored: \", l[0])\n",
    "print(\"Boundaries: \", r1)\n",
    "print(\"Sixes: \", r2)\n",
    "print(\"Dot Balls: \", r3)\n",
    "print(\"Dismissals: \", r4)\n",
    "print(\"Against Kohli, Malinga has a control measure of: \", round(r3/r5*100, 2), \"%\")"
   ]
  }
 ],
 "metadata": {
  "kernelspec": {
   "display_name": "Python 3 (ipykernel)",
   "language": "python",
   "name": "python3"
  },
  "language_info": {
   "codemirror_mode": {
    "name": "ipython",
    "version": 3
   },
   "file_extension": ".py",
   "mimetype": "text/x-python",
   "name": "python",
   "nbconvert_exporter": "python",
   "pygments_lexer": "ipython3",
   "version": "3.10.1"
  }
 },
 "nbformat": 4,
 "nbformat_minor": 5
}
