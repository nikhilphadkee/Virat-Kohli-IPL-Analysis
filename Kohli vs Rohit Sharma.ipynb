{
 "cells": [
  {
   "cell_type": "code",
   "execution_count": 1,
   "id": "1ff0f2bf",
   "metadata": {},
   "outputs": [],
   "source": [
    "import pandas as pd\n",
    "import matplotlib.pyplot as plt\n",
    "import numpy as np"
   ]
  },
  {
   "cell_type": "code",
   "execution_count": 2,
   "id": "85eb6f52",
   "metadata": {},
   "outputs": [
    {
     "data": {
      "text/html": [
       "<div>\n",
       "<style scoped>\n",
       "    .dataframe tbody tr th:only-of-type {\n",
       "        vertical-align: middle;\n",
       "    }\n",
       "\n",
       "    .dataframe tbody tr th {\n",
       "        vertical-align: top;\n",
       "    }\n",
       "\n",
       "    .dataframe thead th {\n",
       "        text-align: right;\n",
       "    }\n",
       "</style>\n",
       "<table border=\"1\" class=\"dataframe\">\n",
       "  <thead>\n",
       "    <tr style=\"text-align: right;\">\n",
       "      <th></th>\n",
       "      <th>index</th>\n",
       "      <th>0</th>\n",
       "      <th>1</th>\n",
       "      <th>2</th>\n",
       "      <th>3</th>\n",
       "      <th>4</th>\n",
       "      <th>5</th>\n",
       "      <th>6</th>\n",
       "      <th>7</th>\n",
       "      <th>8</th>\n",
       "      <th>9</th>\n",
       "      <th>10</th>\n",
       "    </tr>\n",
       "  </thead>\n",
       "  <tbody>\n",
       "    <tr>\n",
       "      <th>0</th>\n",
       "      <td>0</td>\n",
       "      <td>Chennai Super Kings</td>\n",
       "      <td>Deccan Chargers</td>\n",
       "      <td>Delhi Daredevils</td>\n",
       "      <td>Gujarat Lions</td>\n",
       "      <td>Kings XI Punjab</td>\n",
       "      <td>Kolkata Knight Riders</td>\n",
       "      <td>Mumbai Indians</td>\n",
       "      <td>Pune Warriors</td>\n",
       "      <td>Rajasthan Royals</td>\n",
       "      <td>Rising Pune Supergiants</td>\n",
       "      <td>Sunrisers Hyderabad</td>\n",
       "    </tr>\n",
       "    <tr>\n",
       "      <th>1</th>\n",
       "      <td>1</td>\n",
       "      <td>706</td>\n",
       "      <td>306</td>\n",
       "      <td>661</td>\n",
       "      <td>283</td>\n",
       "      <td>483</td>\n",
       "      <td>391</td>\n",
       "      <td>447</td>\n",
       "      <td>128</td>\n",
       "      <td>258</td>\n",
       "      <td>271</td>\n",
       "      <td>439</td>\n",
       "    </tr>\n",
       "    <tr>\n",
       "      <th>2</th>\n",
       "      <td>2</td>\n",
       "      <td>535</td>\n",
       "      <td>175</td>\n",
       "      <td>670</td>\n",
       "      <td>82</td>\n",
       "      <td>528</td>\n",
       "      <td>710</td>\n",
       "      <td>103</td>\n",
       "      <td>135</td>\n",
       "      <td>403</td>\n",
       "      <td>178</td>\n",
       "      <td>169</td>\n",
       "    </tr>\n",
       "  </tbody>\n",
       "</table>\n",
       "</div>"
      ],
      "text/plain": [
       "   index                    0                1                 2  \\\n",
       "0      0  Chennai Super Kings  Deccan Chargers  Delhi Daredevils   \n",
       "1      1                  706              306               661   \n",
       "2      2                  535              175               670   \n",
       "\n",
       "               3                4                      5               6  \\\n",
       "0  Gujarat Lions  Kings XI Punjab  Kolkata Knight Riders  Mumbai Indians   \n",
       "1            283              483                    391             447   \n",
       "2             82              528                    710             103   \n",
       "\n",
       "               7                 8                        9  \\\n",
       "0  Pune Warriors  Rajasthan Royals  Rising Pune Supergiants   \n",
       "1            128               258                      271   \n",
       "2            135               403                      178   \n",
       "\n",
       "                    10  \n",
       "0  Sunrisers Hyderabad  \n",
       "1                  439  \n",
       "2                  169  "
      ]
     },
     "execution_count": 2,
     "metadata": {},
     "output_type": "execute_result"
    }
   ],
   "source": [
    "df = pd.read_csv(\"C:\\\\Users\\\\hp\\\\Downloads\\\\archive (2)\\\\deliveries.csv\")\n",
    "df1 = df[df['batsman'] == 'V Kohli'] \n",
    "df2 = df[df['batsman'] == 'RG Sharma']\n",
    "cols = [0, 1, 2, 4, 5, 7, 8, 9, 10, 11, 12, 13, 14, 16, 18, 17, 19, 20]\n",
    "df3 = df1.drop(df1.columns[cols], axis = 1)\n",
    "df9 = df3.groupby(['bowling_team'], as_index = False).sum()\n",
    "df5 = df2.drop(df2.columns[cols], axis = 1)\n",
    "df8 = df5.groupby(['bowling_team'], as_index = False).sum()\n",
    "df4 = df9.drop(df9.index[5])\n",
    "df6 = df8.drop(df8.index[10])\n",
    "dv = df4.reset_index(drop = True)\n",
    "dr = df6.reset_index(drop = True)\n",
    "vk = dv.transpose()\n",
    "rs = dr.transpose()\n",
    "rgs = rs.drop(rs.index[0])\n",
    "new = pd.concat([vk, rgs], ignore_index = True)\n",
    "new.reset_index()"
   ]
  },
  {
   "cell_type": "code",
   "execution_count": 3,
   "id": "5f913d63",
   "metadata": {},
   "outputs": [],
   "source": [
    "w = new.iloc[1].to_numpy()\n",
    "x = new.iloc[2].to_numpy()\n",
    "y = new.iloc[0].to_numpy()"
   ]
  },
  {
   "cell_type": "code",
   "execution_count": 4,
   "id": "56feb996",
   "metadata": {},
   "outputs": [
    {
     "data": {
      "image/png": "[encoded data removed]",
      "text/plain": [
       "<Figure size 1800x648 with 1 Axes>"
      ]
     },
     "metadata": {
      "needs_background": "light"
     },
     "output_type": "display_data"
    }
   ],
   "source": [
    "plt.figure(figsize=(25,9))\n",
    "X_axis = np.arange(len(y))\n",
    "plt.bar(X_axis - 0.2, w, 0.4, label = \"Virat\")\n",
    "plt.bar(X_axis + 0.2, x, 0.4, label = \"Rohit\")\n",
    "plt.xticks(X_axis, y)\n",
    "plt.xlabel(\"Opponents\")\n",
    "plt.ylabel(\"Runs\")\n",
    "plt.legend()\n",
    "plt.show()"
   ]
  }
 ],
 "metadata": {
  "kernelspec": {
   "display_name": "Python 3 (ipykernel)",
   "language": "python",
   "name": "python3"
  },
  "language_info": {
   "codemirror_mode": {
    "name": "ipython",
    "version": 3
   },
   "file_extension": ".py",
   "mimetype": "text/x-python",
   "name": "python",
   "nbconvert_exporter": "python",
   "pygments_lexer": "ipython3",
   "version": "3.10.1"
  }
 },
 "nbformat": 4,
 "nbformat_minor": 5
}
